{
  "nbformat": 4,
  "nbformat_minor": 0,
  "metadata": {
    "colab": {
      "provenance": [],
      "authorship_tag": "ABX9TyObZJWBKxTnWVSPEB5mN0FD",
      "include_colab_link": true
    },
    "kernelspec": {
      "name": "python3",
      "display_name": "Python 3"
    },
    "language_info": {
      "name": "python"
    }
  },
  "cells": [
    {
      "cell_type": "markdown",
      "metadata": {
        "id": "view-in-github",
        "colab_type": "text"
      },
      "source": [
        "<a href=\"https://colab.research.google.com/github/Forcer0625/RL/blob/main/EasyRL_Project2.ipynb\" target=\"_parent\"><img src=\"https://colab.research.google.com/assets/colab-badge.svg\" alt=\"Open In Colab\"/></a>"
      ]
    },
    {
      "cell_type": "code",
      "execution_count": 1,
      "metadata": {
        "colab": {
          "base_uri": "https://localhost:8080/"
        },
        "id": "kxcwoB8ri59_",
        "outputId": "cbb80551-4c85-4b66-db5d-ec59d6133c40"
      },
      "outputs": [
        {
          "output_type": "stream",
          "name": "stdout",
          "text": [
            "Looking in indexes: https://pypi.org/simple, https://us-python.pkg.dev/colab-wheels/public/simple/\n",
            "Requirement already satisfied: gym in /usr/local/lib/python3.7/dist-packages (0.25.2)\n",
            "Requirement already satisfied: gym-notices>=0.0.4 in /usr/local/lib/python3.7/dist-packages (from gym) (0.0.8)\n",
            "Requirement already satisfied: cloudpickle>=1.2.0 in /usr/local/lib/python3.7/dist-packages (from gym) (1.5.0)\n",
            "Requirement already satisfied: numpy>=1.18.0 in /usr/local/lib/python3.7/dist-packages (from gym) (1.21.6)\n",
            "Requirement already satisfied: importlib-metadata>=4.8.0 in /usr/local/lib/python3.7/dist-packages (from gym) (4.13.0)\n",
            "Requirement already satisfied: zipp>=0.5 in /usr/local/lib/python3.7/dist-packages (from importlib-metadata>=4.8.0->gym) (3.10.0)\n",
            "Requirement already satisfied: typing-extensions>=3.6.4 in /usr/local/lib/python3.7/dist-packages (from importlib-metadata>=4.8.0->gym) (4.1.1)\n"
          ]
        }
      ],
      "source": [
        "pip install gym"
      ]
    },
    {
      "cell_type": "markdown",
      "source": [
        "# 1.1 定義DQN模型\n",
        "直接利用torch的套件來建立全連接網路(Full-Connected Network)當作Q-Network"
      ],
      "metadata": {
        "id": "iV7-nM5Lk59E"
      }
    },
    {
      "cell_type": "code",
      "source": [
        "import torch.nn as nn\n",
        "\n",
        "class MLP(nn.Module):\n",
        "  def __init__(self, n_states, n_actions, hidden_dim=128):\n",
        "    # 初始化Q-Net, 為FCN(or MLP), 這裡只有三層\n",
        "    super(MLP, self).__init__()\n",
        "    self.fc1 = nn.Linear(n_states, hidden_dim) # 輸入層\n",
        "    self.fc2 = nn.Linear(hidden_dim, hidden_dim) # 隱藏層\n",
        "    self.fc3 = nn.Linear(hidden_dim, n_actions) # 輸出層\n",
        "  \n",
        "  def forward(self, x):\n",
        "    # 定義各層的激勵函數(active function)，這裡全用relu\n",
        "    x = nn.functional.relu(self.fc1(x))\n",
        "    x = nn.functional.relu(self.fc2(x))\n",
        "    return self.fc3(x)"
      ],
      "metadata": {
        "id": "C-3HY8BwlRP2"
      },
      "execution_count": 2,
      "outputs": []
    },
    {
      "cell_type": "markdown",
      "source": [
        "# 1.2 定義Experience Replay\n",
        "決定Experince Replay的buffer大小, 儲存一定量的transition時決策網路才會更新。\n",
        "Experience Replay包含兩個比較重要的功能\n",
        "###### 1.push: 將一個樣本放入buffer中, 滿了就將之前的丟掉, 可以用queue來實作\n",
        "###### 2.sample: 定義如何採樣，採樣出一個或多個(依batch_size大小決定)"
      ],
      "metadata": {
        "id": "qCiZr2STmw4K"
      }
    },
    {
      "cell_type": "code",
      "source": [
        "from collections import deque\n",
        "import random\n",
        "\n",
        "class ReplayBuffer(object):\n",
        "  def __init__(self, capacity:int) -> None:\n",
        "    self.capacity = capacity\n",
        "    self.buffer = deque(maxlen=self.capacity)\n",
        "  \n",
        "  def push(self, transition):\n",
        "    self.buffer.append(transition)\n",
        "  \n",
        "  def sample(self, batch_size:int, sequential:bool=False):\n",
        "    # 如果batch size大於Experience Replay的容量大小，則直接取全部\n",
        "    if batch_size > len(self.buffer):\n",
        "      batch_size = len(self.buffer)\n",
        "    # 循序採樣\n",
        "    if sequential:\n",
        "      # 從某個rand開始採樣batch_size個sample並回傳\n",
        "      rand = random.randint(0, len(self.buffer)-batch_size)\n",
        "      batch = [self.buffer[i] for i in range(rand, rand+batch_size)]\n",
        "    else: # 隨機採樣\n",
        "      batch = random.sample(self.buffer, batch_size)\n",
        "    return zip(*batch)\n",
        "  \n",
        "  def clear(self):\n",
        "    self.buffer.clear()\n",
        "  \n",
        "  def __len__(self):\n",
        "    return len(self.buffer)"
      ],
      "metadata": {
        "id": "TQZorQpvoGIz"
      },
      "execution_count": 3,
      "outputs": []
    },
    {
      "cell_type": "markdown",
      "source": [
        "# 1.3 定義DDQN核心演算法"
      ],
      "metadata": {
        "id": "zpBVCK1ApslU"
      }
    },
    {
      "cell_type": "code",
      "source": [
        "import torch\n",
        "import torch.optim as optim\n",
        "import math\n",
        "import numpy as np\n",
        "\n",
        "class DQN:\n",
        "  def __init__(self, model, memory, cfg):\n",
        "    self.n_actions = cfg['n_actions']  \n",
        "    self.device = torch.device(cfg['device'])\n",
        "    self.gamma = cfg['gamma'] # discounting factor\n",
        "    # e-greedy策略相關參數\n",
        "    self.sample_count = 0  # epsilon會隨時間衰退的count\n",
        "    self.epsilon = cfg['epsilon_start']\n",
        "    self.sample_count = 0  \n",
        "    self.epsilon_start = cfg['epsilon_start']\n",
        "    self.epsilon_end = cfg['epsilon_end']\n",
        "    self.epsilon_decay = cfg['epsilon_decay']\n",
        "    self.batch_size = cfg['batch_size']\n",
        "    self.policy_net = model.to(self.device)\n",
        "    self.target_net = model.to(self.device)\n",
        "    # 複製一個通樣的網路到target Q-Net\n",
        "    for target_param, param in zip(self.target_net.parameters(),self.policy_net.parameters()): \n",
        "        target_param.data.copy_(param.data)\n",
        "    self.optimizer = optim.Adam(self.policy_net.parameters(), lr=cfg['lr']) # 优化器\n",
        "    self.memory = memory # 用於Experience Replay\n",
        "\n",
        "  def sample_action(self, state):\n",
        "    # 採樣動作\n",
        "    self.sample_count += 1\n",
        "    # epsilon指數遞減\n",
        "    self.epsilon = self.epsilon_end+(self.epsilon_start-self.epsilon_end)*\\\n",
        "      math.exp(-1.0*self.sample_count/self.epsilon_decay)\n",
        "    \n",
        "    if random.random()>self.epsilon:\n",
        "      with torch.no_grad():\n",
        "        state = torch.tensor(state, device=self.device, dtype=torch.float32).unsqueeze(dim=0)\n",
        "        q_values = self.policy_net(state)\n",
        "        # dueling DQN改這裡\n",
        "        action = q_values.max(1)[1].item()\n",
        "    else:\n",
        "      action = random.randrange(self.n_actions)\n",
        "    \n",
        "    return action\n",
        "\n",
        "  @torch.no_grad() #不計算gradient\n",
        "  def predict_action(self, state):\n",
        "    # 預測動作\n",
        "    state = torch.tensor(state, device=self.device, dtype=torch.float32).unsqueeze(dim=0)\n",
        "    q_values = self.policy_net(state)\n",
        "    # dueling DQN改這裡\n",
        "    action = q_values.max(1)[1].item()\n",
        "    return action\n",
        "  \n",
        "  def update(self):\n",
        "    # 當buffer內的experience數量小於一個batch時,不更新網路\n",
        "    if len(self.memory)<self.batch_size:\n",
        "      return\n",
        "    # 從Experience Replay中採樣\n",
        "    state_batch,action_batch,reward_batch,next_state_batch,done_batch = self.memory.sample(self.batch_size)\n",
        "    # 將採樣資料轉為tensor\n",
        "    state_batch = torch.tensor(np.array(state_batch), device=self.device, dtype=torch.float)\n",
        "    action_batch = torch.tensor(action_batch, device=self.device).unsqueeze(1)  \n",
        "    reward_batch = torch.tensor(reward_batch, device=self.device, dtype=torch.float)  \n",
        "    next_state_batch = torch.tensor(np.array(next_state_batch), device=self.device, dtype=torch.float)\n",
        "    done_batch = torch.tensor(np.float32(done_batch), device=self.device)\n",
        "    q_values = self.policy_net(state_batch).gather(dim=1, index=action_batch) # 計算目前狀態策略網路對應的q_value\n",
        "    next_q_values = self.target_net(next_state_batch).max(1)[0].detach() # 計算目前狀態對應的target_q    \n",
        "    expected_q_values = reward_batch+self.gamma*next_q_values*(1-done_batch) # 計算期望Q值, 若遇到終止狀態, 則對應的期望Q值等於reward\n",
        "    loss = nn.MSELoss()(q_values, expected_q_values.unsqueeze(1)) #計算 MSE loss\n",
        "    # 選擇optimizer更新模型\n",
        "    self.optimizer.zero_grad()\n",
        "    loss.backward()\n",
        "    # clip防止梯度爆炸\n",
        "    for param in self.policy_net.parameters():\n",
        "      param.grad.data.clamp_(-1,1)\n",
        "    self.optimizer.step()"
      ],
      "metadata": {
        "id": "qMr9OSZap7gJ"
      },
      "execution_count": 11,
      "outputs": []
    },
    {
      "cell_type": "markdown",
      "source": [
        "# 2. 定義訓練、測試函數"
      ],
      "metadata": {
        "id": "bgrkNOeD8H8d"
      }
    },
    {
      "cell_type": "code",
      "source": [
        "def train(cfg, env, agent):\n",
        "  print(\"Start Training...\")\n",
        "  rewards = [] # 紀錄所有epside的reward\n",
        "  steps = []\n",
        "  for i_ep in range(cfg['train_eps']):\n",
        "    ep_reward = 0 # 紀錄一個epside的reward\n",
        "    state = env.reset() # 重製環境狀態\n",
        "    ep_step = 0\n",
        "    for _ in range(cfg['ep_max_steps']):\n",
        "      ep_step += 1\n",
        "      action = agent.sample_action(state) # 選擇動作\n",
        "      next_state, reward, done, _ = env.step(action) # 更新環境\n",
        "      agent.memory.push((state, action, reward, next_state, done))# 保留Experience\n",
        "      state = next_state\n",
        "      agent.update() # 更新決策網路\n",
        "      ep_reward += reward # 累加reward\n",
        "      if done:\n",
        "        break\n",
        "    # 一定回合數後將target Q-Net更新\n",
        "    if (i_ep+1)%cfg['target_update']==0:\n",
        "      agent.target_net.load_state_dict(agent.policy_net.state_dict())\n",
        "    steps.append(ep_step)\n",
        "    rewards.append(ep_reward)\n",
        "    # 每10次訓練輸出訓練狀況\n",
        "    if (i_ep+1)%10==0:\n",
        "      print(f\"回合：{i_ep+1}/{cfg['train_eps']}，獎勵：{ep_reward:.2f}，Epislon：{agent.epsilon:.3f}\")\n",
        "  print(\"Training Finished!\")\n",
        "  env.close()\n",
        "  return {'rewards':rewards}\n",
        "\n",
        "def test(cfg, env, agent):\n",
        "  print(\"Start Testing...\")\n",
        "  rewards = []  # 紀錄所有epside的reward\n",
        "  steps = []\n",
        "  for i_ep in range(cfg['test_eps']):\n",
        "    ep_reward = 0  # # 紀錄一個epside的reward\n",
        "    state = env.reset() # 重製環境狀態\n",
        "    ep_step = 0\n",
        "    for _ in range(cfg['ep_max_steps']):\n",
        "      ep_step+=1\n",
        "      action = agent.predict_action(state)  # 選擇動作\n",
        "      next_state, reward, done, _ = env.step(action)  # 更新環境\n",
        "      state = next_state\n",
        "      ep_reward += reward  # 累加reward\n",
        "      if done:\n",
        "          break\n",
        "    steps.append(ep_step)\n",
        "    rewards.append(ep_reward)\n",
        "    print(f\"回合：{i_ep+1}/{cfg['test_eps']}，獎勵：{ep_reward:.2f}\")\n",
        "  print(\"Testing Finished!\")\n",
        "  env.close()\n",
        "  return {'rewards':rewards}"
      ],
      "metadata": {
        "id": "W7UO6C_28L3e"
      },
      "execution_count": 17,
      "outputs": []
    },
    {
      "cell_type": "markdown",
      "source": [
        "# 3. 定義環境"
      ],
      "metadata": {
        "id": "B5O3od6E_4PA"
      }
    },
    {
      "cell_type": "code",
      "source": [
        "import gym\n",
        "import os\n",
        "\n",
        "def all_seed(env,seed = 1):\n",
        "  env.seed(seed) # env config\n",
        "  np.random.seed(seed)\n",
        "  random.seed(seed)\n",
        "  torch.manual_seed(seed) # config for CPU\n",
        "  torch.cuda.manual_seed(seed) # config for GPU\n",
        "  os.environ['PYTHONHASHSEED'] = str(seed) # config for python scripts\n",
        "  # config for cudnn\n",
        "  torch.backends.cudnn.deterministic = True\n",
        "  torch.backends.cudnn.benchmark = False\n",
        "  torch.backends.cudnn.enabled = False\n",
        "\n",
        "def env_agent_config(cfg):\n",
        "  env = gym.make(cfg['env_name']) # 建立環境\n",
        "  if cfg['seed'] !=0:\n",
        "    all_seed(env,seed=cfg['seed'])\n",
        "  n_states = env.observation_space.shape[0]\n",
        "  n_actions = env.action_space.n\n",
        "  print(f\"狀態空間維度:{n_states}，動作空間維度:{n_actions}\")\n",
        "  cfg.update({\"n_states\":n_states,\"n_actions\":n_actions}) # 更新n_states和n_actions到cfg參數中\n",
        "  model = MLP(n_states, n_actions, hidden_dim = cfg['hidden_dim']) # 建立模型\n",
        "  memory = ReplayBuffer(cfg['memory_capacity'])\n",
        "  agent = DQN(model,memory,cfg)\n",
        "  return env,agent"
      ],
      "metadata": {
        "id": "ZeHhx6Af_-NY"
      },
      "execution_count": 7,
      "outputs": []
    },
    {
      "cell_type": "markdown",
      "source": [
        "# 4. 設定(超)參數"
      ],
      "metadata": {
        "id": "sQdK0fe-AdUw"
      }
    },
    {
      "cell_type": "code",
      "source": [
        "import argparse\n",
        "import matplotlib.pyplot as plt\n",
        "import seaborn as sns\n",
        "\n",
        "def get_args():\n",
        "  # (超)參數設定\n",
        "  parser = argparse.ArgumentParser(description=\"hyperparameters\")      \n",
        "  parser.add_argument('--algo_name',default='DQN',type=str,help=\"name of algorithm\")\n",
        "  parser.add_argument('--env_name',default='CartPole-v0',type=str,help=\"name of environment\")\n",
        "  parser.add_argument('--train_eps',default=200,type=int,help=\"episodes of training\")\n",
        "  parser.add_argument('--test_eps',default=20,type=int,help=\"episodes of testing\")\n",
        "  parser.add_argument('--ep_max_steps',default = 100000,type=int,help=\"steps per episode, much larger value can simulate infinite steps\")\n",
        "  parser.add_argument('--gamma',default=0.95,type=float,help=\"discounted factor\")\n",
        "  parser.add_argument('--epsilon_start',default=0.95,type=float,help=\"initial value of epsilon\")\n",
        "  parser.add_argument('--epsilon_end',default=0.01,type=float,help=\"final value of epsilon\")\n",
        "  parser.add_argument('--epsilon_decay',default=500,type=int,help=\"decay rate of epsilon, the higher value, the slower decay\")\n",
        "  parser.add_argument('--lr',default=0.0001,type=float,help=\"learning rate\")\n",
        "  parser.add_argument('--memory_capacity',default=100000,type=int,help=\"memory capacity\")\n",
        "  parser.add_argument('--batch_size',default=64,type=int)\n",
        "  parser.add_argument('--target_update',default=4,type=int)\n",
        "  parser.add_argument('--hidden_dim',default=256,type=int)\n",
        "  parser.add_argument('--device',default='cpu',type=str,help=\"cpu or cuda\") \n",
        "  parser.add_argument('--seed',default=10,type=int,help=\"seed\")   \n",
        "  args = parser.parse_args([])\n",
        "  args = {**vars(args)}  \n",
        "  ## 印出超参数\n",
        "  print(\"超參數\")\n",
        "  print(''.join(['=']*80))\n",
        "  tplt = \"{:^20}\\t{:^20}\\t{:^20}\"\n",
        "  print(tplt.format(\"Name\", \"Value\", \"Type\"))\n",
        "  for k,v in args.items():\n",
        "      print(tplt.format(k,v,str(type(v))))   \n",
        "  print(''.join(['=']*80))      \n",
        "  return args\n",
        "\n",
        "def smooth(data, weight=0.9):  \n",
        "  # 平滑曲線\n",
        "  last = data[0] \n",
        "  smoothed = []\n",
        "  for point in data:\n",
        "    smoothed_val = last*weight+(1-weight)*point\n",
        "    smoothed.append(smoothed_val)                    \n",
        "    last = smoothed_val                                \n",
        "  return smoothed\n",
        "\n",
        "def plot_rewards(rewards,cfg, tag='train'):\n",
        "  # 繪製reward變化圖\n",
        "  sns.set()\n",
        "  plt.figure()\n",
        "  plt.title(f\"{tag}ing curve on {cfg['device']} of {cfg['algo_name']} for {cfg['env_name']}\")\n",
        "  plt.xlabel('epsiodes')\n",
        "  plt.plot(rewards, label='rewards')\n",
        "  plt.plot(smooth(rewards), label='smoothed')\n",
        "  plt.legend()\n",
        "  plt.show()"
      ],
      "metadata": {
        "id": "hMVZOiBWAjHv"
      },
      "execution_count": 9,
      "outputs": []
    },
    {
      "cell_type": "markdown",
      "source": [
        "# 5. DQN實戰訓練"
      ],
      "metadata": {
        "id": "dSITuhpaBL2b"
      }
    },
    {
      "cell_type": "code",
      "source": [
        "# 取得參數\n",
        "cfg = get_args()\n",
        "# 以DQN訓練\n",
        "env, agent = env_agent_config(cfg)\n",
        "res_dic = train(cfg, env, agent)\n",
        "\n",
        "plot_rewards(res_dic['rewards'], cfg, tag=\"train\")\n",
        "\n",
        "# 測試\n",
        "res_dic = test(cfg, env, agent)\n",
        "plot_rewards(res_dic['rewards'], cfg, tag=\"test\")  # 畫出結果"
      ],
      "metadata": {
        "colab": {
          "base_uri": "https://localhost:8080/",
          "height": 1000
        },
        "id": "qtdTJSx4BQ8u",
        "outputId": "6a3b2f60-7abb-4eb4-8512-21733fd3af38"
      },
      "execution_count": 18,
      "outputs": [
        {
          "output_type": "stream",
          "name": "stdout",
          "text": [
            "超參數\n",
            "================================================================================\n",
            "        Name        \t       Value        \t        Type        \n",
            "     algo_name      \t        DQN         \t   <class 'str'>    \n",
            "      env_name      \t    CartPole-v0     \t   <class 'str'>    \n",
            "     train_eps      \t        200         \t   <class 'int'>    \n",
            "      test_eps      \t         20         \t   <class 'int'>    \n",
            "    ep_max_steps    \t       100000       \t   <class 'int'>    \n",
            "       gamma        \t        0.95        \t  <class 'float'>   \n",
            "   epsilon_start    \t        0.95        \t  <class 'float'>   \n",
            "    epsilon_end     \t        0.01        \t  <class 'float'>   \n",
            "   epsilon_decay    \t        500         \t   <class 'int'>    \n",
            "         lr         \t       0.0001       \t  <class 'float'>   \n",
            "  memory_capacity   \t       100000       \t   <class 'int'>    \n",
            "     batch_size     \t         64         \t   <class 'int'>    \n",
            "   target_update    \t         4          \t   <class 'int'>    \n",
            "     hidden_dim     \t        256         \t   <class 'int'>    \n",
            "       device       \t        cpu         \t   <class 'str'>    \n",
            "        seed        \t         10         \t   <class 'int'>    \n",
            "================================================================================\n",
            "狀態空間維度:4，動作空間維度:2\n",
            "Start Training...\n",
            "回合：10/200，獎勵：12.00，Epislon：0.646\n",
            "回合：20/200，獎勵：9.00，Epislon：0.484\n",
            "回合：30/200，獎勵：15.00，Epislon：0.379\n",
            "回合：40/200，獎勵：11.00，Epislon：0.310\n",
            "回合：50/200，獎勵：12.00，Epislon：0.246\n",
            "回合：60/200，獎勵：40.00，Epislon：0.143\n",
            "回合：70/200，獎勵：74.00，Epislon：0.041\n",
            "回合：80/200，獎勵：200.00，Epislon：0.011\n",
            "回合：90/200，獎勵：200.00，Epislon：0.010\n",
            "回合：100/200，獎勵：200.00，Epislon：0.010\n",
            "回合：110/200，獎勵：200.00，Epislon：0.010\n",
            "回合：120/200，獎勵：200.00，Epislon：0.010\n",
            "回合：130/200，獎勵：200.00，Epislon：0.010\n",
            "回合：140/200，獎勵：200.00，Epislon：0.010\n",
            "回合：150/200，獎勵：200.00，Epislon：0.010\n",
            "回合：160/200，獎勵：178.00，Epislon：0.010\n",
            "回合：170/200，獎勵：200.00，Epislon：0.010\n",
            "回合：180/200，獎勵：200.00，Epislon：0.010\n",
            "回合：190/200，獎勵：200.00，Epislon：0.010\n",
            "回合：200/200，獎勵：200.00，Epislon：0.010\n",
            "Training Finished!\n"
          ]
        },
        {
          "output_type": "display_data",
          "data": {
            "text/plain": [
              "<Figure size 432x288 with 1 Axes>"
            ],
            "image/png": "[encoded data removed]"
          },
          "metadata": {}
        },
        {
          "output_type": "stream",
          "name": "stdout",
          "text": [
            "Start Testing...\n",
            "回合：1/20，獎勵：200.00\n",
            "回合：2/20，獎勵：182.00\n",
            "回合：3/20，獎勵：200.00\n",
            "回合：4/20，獎勵：200.00\n",
            "回合：5/20，獎勵：200.00\n",
            "回合：6/20，獎勵：200.00\n",
            "回合：7/20，獎勵：194.00\n",
            "回合：8/20，獎勵：183.00\n",
            "回合：9/20，獎勵：200.00\n",
            "回合：10/20，獎勵：200.00\n",
            "回合：11/20，獎勵：200.00\n",
            "回合：12/20，獎勵：200.00\n",
            "回合：13/20，獎勵：192.00\n",
            "回合：14/20，獎勵：200.00\n",
            "回合：15/20，獎勵：200.00\n",
            "回合：16/20，獎勵：181.00\n",
            "回合：17/20，獎勵：182.00\n",
            "回合：18/20，獎勵：200.00\n",
            "回合：19/20，獎勵：184.00\n",
            "回合：20/20，獎勵：187.00\n",
            "Testing Finished!\n"
          ]
        },
        {
          "output_type": "display_data",
          "data": {
            "text/plain": [
              "<Figure size 432x288 with 1 Axes>"
            ],
            "image/png": "[encoded data removed]"
          },
          "metadata": {}
        }
      ]
    }
  ]
}